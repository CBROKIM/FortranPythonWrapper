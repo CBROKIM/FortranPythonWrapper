{
 "cells": [
  {
   "cell_type": "code",
   "execution_count": 15,
   "id": "chinese-television",
   "metadata": {},
   "outputs": [],
   "source": [
    "from fibo import fibonacci as ffibo\n",
    "import time\n",
    "def pfibo(n):\n",
    "    if n<2:\n",
    "        return n\n",
    "    else:\n",
    "        return pfibo(n-1)+pfibo(n-2)"
   ]
  },
  {
   "cell_type": "code",
   "execution_count": 22,
   "id": "cosmetic-deadline",
   "metadata": {},
   "outputs": [
    {
     "name": "stdout",
     "output_type": "stream",
     "text": [
      "##############################\n",
      "Python Fibonacci\n",
      "0 1 1 2 3 5 8 13 21 34 55 89 144 233 377 610 987 1597 2584 4181 6765 10946 17711 28657 46368 75025 121393 196418 317811 514229 832040 1346269 2178309 3524578 5702887 9227465 14930352 24157817 39088169 63245986 \n",
      "Elapsed time:29.776s\n",
      "##############################\n",
      "Fortran Fibonacci\n",
      "0 1 1 2 3 5 8 13 21 34 55 89 144 233 377 610 987 1597 2584 4181 6765 10946 17711 28657 46368 75025 121393 196418 317811 514229 832040 1346269 2178309 3524578 5702887 9227465 14930352 24157817 39088169 63245986 \n",
      "Elapsed time:0.725s\n"
     ]
    }
   ],
   "source": [
    "#Calculate first N numbers in the fibonacci sequence\n",
    "N = 40\n",
    "for name,func in zip(['Python Fibonacci','Fortran Fibonacci'],[pfibo, ffibo]):\n",
    "    t0 = time.time()\n",
    "    print('#'*30)\n",
    "    print(name)\n",
    "    for i in range(N):\n",
    "        print(func(i),end=' ',flush=True)\n",
    "    print('\\nElapsed time:{:.3f}s'.format(time.time()-t0))"
   ]
  }
 ],
 "metadata": {
  "kernelspec": {
   "display_name": "torch",
   "language": "python",
   "name": "torch"
  },
  "language_info": {
   "codemirror_mode": {
    "name": "ipython",
    "version": 3
   },
   "file_extension": ".py",
   "mimetype": "text/x-python",
   "name": "python",
   "nbconvert_exporter": "python",
   "pygments_lexer": "ipython3",
   "version": "3.8.10"
  }
 },
 "nbformat": 4,
 "nbformat_minor": 5
}
